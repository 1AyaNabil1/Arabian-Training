{
  "cells": [
    {
      "cell_type": "markdown",
      "metadata": {
        "id": "view-in-github",
        "colab_type": "text"
      },
      "source": [
        "<a href=\"https://colab.research.google.com/github/1AyaNabil1/Arabian-Training/blob/main/notebooks/Interactive_SVM_and_Distance_Metrics.ipynb\" target=\"_parent\"><img src=\"https://colab.research.google.com/assets/colab-badge.svg\" alt=\"Open In Colab\"/></a>"
      ]
    },
    {
      "cell_type": "markdown",
      "metadata": {
        "id": "vRQKMhyFlBYX"
      },
      "source": [
        "# Interactive SVM and Distance Metrics Tutorial\n",
        "\n",
        "Welcome to this interactive notebook! You'll learn about **Support Vector Machines (SVM)** and **distance metrics** (Euclidean, Manhattan, and Cosine Similarity) using the **Social Network Ads** dataset. Your task is to complete the missing code sections. The notebook will check your answers automatically and provide feedback.\n",
        "\n",
        "## Dataset\n",
        "We'll use the Social Network Ads dataset, which contains information about users (age, estimated salary) and whether they purchased a product (0 or 1).\n",
        "Download from here: https://www.kaggle.com/datasets/rakeshrau/social-network-ads?select=Social_Network_Ads.csv\n",
        "\n",
        "## Instructions\n",
        "- Fill in the missing code in the cells marked with `# YOUR CODE HERE`.\n",
        "\n",
        "Let's get started!"
      ]
    },
    {
      "cell_type": "code",
      "execution_count": null,
      "metadata": {
        "id": "XKCnpvfPlBYc"
      },
      "outputs": [],
      "source": [
        "# Import necessary libraries\n",
        "import pandas as pd\n",
        "import numpy as np\n",
        "from sklearn.model_selection import train_test_split\n",
        "from sklearn.preprocessing import StandardScaler\n",
        "from sklearn.svm import SVC\n",
        "from sklearn.metrics import accuracy_score, pairwise_distances\n",
        "import matplotlib.pyplot as plt\n",
        "import seaborn as sns\n",
        "\n",
        "# Load the dataset\n",
        "data = pd.read_csv(\"/content/Social_Network_Ads.csv\")\n",
        "print('Dataset loaded successfully.')\n",
        "data.head()"
      ]
    },
    {
      "cell_type": "markdown",
      "metadata": {
        "id": "9Xs4o2xGlBYg"
      },
      "source": [
        "## Step 1: Data Preprocessing\n",
        "\n",
        "The dataset has columns: `User ID`, `Gender`, `Age`, `EstimatedSalary`, and `Purchased`. We'll use `Age` and `EstimatedSalary` as features and `Purchased` as the target.\n",
        "\n",
        "**Task 1**: Select the features (`Age`, `EstimatedSalary`) and the target (`Purchased`). Assign them to `X` (features) and `y` (target).\n",
        "\n",
        "Complete the code below:"
      ]
    },
    {
      "cell_type": "code",
      "execution_count": null,
      "metadata": {
        "id": "HQKQKAL-lBYh"
      },
      "outputs": [],
      "source": [
        "# YOUR CODE HERE\n",
        "X = # Select Age and EstimatedSalary\n",
        "y = # Select Purchased"
      ]
    },
    {
      "cell_type": "markdown",
      "metadata": {
        "id": "jtzi0RNFlBYi"
      },
      "source": [
        "<details>\n",
        "<summary></summary>\n",
        "\n",
        "```python\n",
        "**Solution** (hidden from students):\n",
        "```python\n",
        "X = data[['Age', 'EstimatedSalary']]\n",
        "y = data['Purchased']\n",
        "```"
      ]
    },
    {
      "cell_type": "markdown",
      "metadata": {
        "id": "k0VH4uvrlBYi"
      },
      "source": [
        "**Task 2**: Split the data into training (80%) and testing (20%) sets using `train_test_split`. Use `random_state=42` for reproducibility.\n",
        "\n",
        "Complete the code below:"
      ]
    },
    {
      "cell_type": "code",
      "execution_count": null,
      "metadata": {
        "id": "t5zbI3NVlBYj"
      },
      "outputs": [],
      "source": [
        "# YOUR CODE HERE\n",
        "X_train, X_test, y_train, y_test = # Split the data"
      ]
    },
    {
      "cell_type": "markdown",
      "metadata": {
        "id": "rNvXTIIrlBYk"
      },
      "source": [
        "<details>\n",
        "<summary></summary>\n",
        "\n",
        "```python\n",
        "**Solution** (hidden from students):\n",
        "```python\n",
        "X_train, X_test, y_train, y_test = train_test_split(X, y, test_size=0.2, random_state=42)\n",
        "```"
      ]
    },
    {
      "cell_type": "markdown",
      "metadata": {
        "id": "OC9tksWNlBYl"
      },
      "source": [
        "**Task 3**: Standardize the features using `StandardScaler` to ensure `Age` and `EstimatedSalary` are on the same scale.\n",
        "\n",
        "Complete the code below:"
      ]
    },
    {
      "cell_type": "code",
      "execution_count": null,
      "metadata": {
        "id": "u4bFcwgNlBYl"
      },
      "outputs": [],
      "source": [
        "# Initialize the scaler\n",
        "scaler = StandardScaler()\n",
        "\n",
        "# YOUR CODE HERE\n",
        "X_train_scaled = # Fit and transform the training data\n",
        "X_test_scaled = # Transform the test data"
      ]
    },
    {
      "cell_type": "markdown",
      "metadata": {
        "id": "RRjKZ1U8lBYn"
      },
      "source": [
        "<details>\n",
        "<summary></summary>\n",
        "\n",
        "```python\n",
        "**Solution** (hidden from students):\n",
        "```python\n",
        "X_train_scaled = scaler.fit_transform(X_train)\n",
        "X_test_scaled = scaler.transform(X_test)\n",
        "```"
      ]
    },
    {
      "cell_type": "markdown",
      "metadata": {
        "id": "fF63avnBlBYn"
      },
      "source": [
        "## Step 2: Understanding Distance Metrics\n",
        "\n",
        "We'll compute different distance metrics between two points in the dataset to understand how they work.\n",
        "\n",
        "**Task 4**: Compute the **Euclidean distance** between the first two points in `X_train_scaled`.\n",
        "\n",
        "Hint: Euclidean distance between two points \\(a\\) and \\(b\\) is \\(\\\\sqrt{(a_1 - b_1)^2 + (a_2 - b_2)^2}\\).\n",
        "\n",
        "Complete the code below:"
      ]
    },
    {
      "cell_type": "code",
      "execution_count": null,
      "metadata": {
        "id": "Ad-evBtGlBYo"
      },
      "outputs": [],
      "source": [
        "# Select first two points\n",
        "point1 = X_train_scaled[0]\n",
        "point2 = X_train_scaled[1]\n",
        "\n",
        "# YOUR CODE HERE\n",
        "euclidean_dist = # Compute Euclidean distance"
      ]
    },
    {
      "cell_type": "markdown",
      "metadata": {
        "id": "2rOqoioslBYo"
      },
      "source": [
        "<details>\n",
        "<summary></summary>\n",
        "\n",
        "```python\n",
        "**Solution** (hidden from students):\n",
        "```python\n",
        "euclidean_dist = np.sqrt(np.sum((point1 - point2) ** 2))\n",
        "```"
      ]
    },
    {
      "cell_type": "markdown",
      "metadata": {
        "id": "nHG3asFvlBYp"
      },
      "source": [
        "**Task 5**: Compute the **Manhattan distance** between the same two points.\n",
        "\n",
        "Hint: Manhattan distance is (\\\\sum |a_i - b_i|).\n",
        "\n",
        "Complete the code below:"
      ]
    },
    {
      "cell_type": "code",
      "execution_count": null,
      "metadata": {
        "id": "RcgYyhvvlBYp"
      },
      "outputs": [],
      "source": [
        "# YOUR CODE HERE\n",
        "manhattan_dist = # Compute Manhattan distance"
      ]
    },
    {
      "cell_type": "markdown",
      "metadata": {
        "id": "EHXK6bBClBYp"
      },
      "source": [
        "<details>\n",
        "<summary></summary>\n",
        "\n",
        "```python\n",
        "**Solution** (hidden from students):\n",
        "```python\n",
        "manhattan_dist = np.sum(np.abs(point1 - point2))\n",
        "```"
      ]
    },
    {
      "cell_type": "markdown",
      "metadata": {
        "id": "cy3qbHGHlBYq"
      },
      "source": [
        "**Task 6**: Compute the **Cosine similarity** between the same two points.\n",
        "\n",
        "Hint: Cosine similarity is (\\\\frac{a \\cdot b}{\\\\|a\\\\| \\\\|b\\\\|}), where (\\cdot) is the dot product, and (\\\\|a\\\\|) is the norm of vector (a).\n",
        "\n",
        "Complete the code below:"
      ]
    },
    {
      "cell_type": "code",
      "execution_count": null,
      "metadata": {
        "id": "7JvzaPdElBYq"
      },
      "outputs": [],
      "source": [
        "# YOUR CODE HERE\n",
        "cosine_sim = # Compute Cosine similarity"
      ]
    },
    {
      "cell_type": "markdown",
      "metadata": {
        "id": "yyJXALRalBYr"
      },
      "source": [
        "<details>\n",
        "<summary></summary>\n",
        "\n",
        "```python\n",
        "**Solution** (hidden from students):\n",
        "```python\n",
        "cosine_sim = np.dot(point1, point2) / (np.linalg.norm(point1) * np.linalg.norm(point2))\n",
        "```"
      ]
    },
    {
      "cell_type": "markdown",
      "metadata": {
        "id": "NeUaHLvHlBYr"
      },
      "source": [
        "## Step 3: Distance Matrix\n",
        "\n",
        "Let's compute the distance matrix for the first 10 points in `X_train_scaled` using different metrics.\n",
        "\n",
        "**Task 7**: Compute the Euclidean distance matrix for the first 10 points using `pairwise_distances`.\n",
        "\n",
        "Complete the code below:"
      ]
    },
    {
      "cell_type": "code",
      "execution_count": null,
      "metadata": {
        "id": "WqTwQ5DflBYs"
      },
      "outputs": [],
      "source": [
        "# Select first 10 points\n",
        "X_subset = X_train_scaled[:10]\n",
        "\n",
        "# YOUR CODE HERE\n",
        "euclidean_matrix = # Compute Euclidean distance matrix"
      ]
    },
    {
      "cell_type": "markdown",
      "metadata": {
        "id": "0BBaHZFtlBYs"
      },
      "source": [
        "<details>\n",
        "<summary></summary>\n",
        "\n",
        "```python\n",
        "**Solution** (hidden from students):\n",
        "```python\n",
        "euclidean_matrix = pairwise_distances(X_subset, metric='euclidean')\n",
        "```"
      ]
    },
    {
      "cell_type": "markdown",
      "metadata": {
        "id": "zOTOG3VVlBYt"
      },
      "source": [
        "## Step 4: Training an SVM Model\n",
        "\n",
        "Now, let's train an SVM model with a linear kernel on the scaled training data.\n",
        "\n",
        "**Task 8**: Initialize and train an SVM classifier with a linear kernel.\n",
        "\n",
        "Complete the code below:"
      ]
    },
    {
      "cell_type": "code",
      "execution_count": null,
      "metadata": {
        "id": "peywuhQllBYt"
      },
      "outputs": [],
      "source": [
        "# YOUR CODE HERE\n",
        "svm_model = # Initialize SVM with linear kernel\n",
        "# Train the model\n",
        "# YOUR CODE HERE"
      ]
    },
    {
      "cell_type": "markdown",
      "metadata": {
        "id": "xPhEF1azlBYu"
      },
      "source": [
        "<details>\n",
        "<summary></summary>\n",
        "\n",
        "```python\n",
        "**Solution** (hidden from students):\n",
        "```python\n",
        "svm_model = SVC(kernel='linear')\n",
        "svm_model.fit(X_train_scaled, y_train)\n",
        "```"
      ]
    },
    {
      "cell_type": "markdown",
      "metadata": {
        "id": "hTWCcOQSlBYu"
      },
      "source": [
        "**Task 9**: Evaluate the SVM model on the test set by computing the accuracy.\n",
        "\n",
        "Complete the code below:"
      ]
    },
    {
      "cell_type": "code",
      "execution_count": null,
      "metadata": {
        "id": "F3qaas21lBYu"
      },
      "outputs": [],
      "source": [
        "# YOUR CODE HERE\n",
        "y_pred = # Predict on test set\n",
        "accuracy = # Compute accuracy"
      ]
    },
    {
      "cell_type": "markdown",
      "metadata": {
        "id": "KswydLfRlBYv"
      },
      "source": [
        "<details>\n",
        "<summary></summary>\n",
        "\n",
        "```python\n",
        "**Solution** (hidden from students):\n",
        "```python\n",
        "y_pred = svm_model.predict(X_test_scaled)\n",
        "accuracy = accuracy_score(y_test, y_pred)\n",
        "```"
      ]
    },
    {
      "cell_type": "markdown",
      "metadata": {
        "id": "3B8VwumFlBYv"
      },
      "source": [
        "## Step 5: Visualizing the Decision Boundary\n",
        "\n",
        "Let's visualize the SVM decision boundary to understand how it separates the classes.\n",
        "\n",
        "The code below is complete for you to run and observe the results."
      ]
    },
    {
      "cell_type": "code",
      "execution_count": null,
      "metadata": {
        "id": "7gu22MVtlBYv"
      },
      "outputs": [],
      "source": [
        "# Plot decision boundary\n",
        "def plot_decision_boundary(X, y, model, scaler):\n",
        "    h = .02  # step size in the mesh\n",
        "    x_min, x_max = X[:, 0].min() - 1, X[:, 0].max() + 1\n",
        "    y_min, y_max = X[:, 1].min() - 1, X[:, 1].max() + 1\n",
        "    xx, yy = np.meshgrid(np.arange(x_min, x_max, h), np.arange(y_min, y_max, h))\n",
        "    Z = model.predict(scaler.transform(np.c_[xx.ravel(), yy.ravel()]))\n",
        "    Z = Z.reshape(xx.shape)\n",
        "    plt.contourf(xx, yy, Z, cmap=plt.cm.coolwarm, alpha=0.8)\n",
        "    plt.scatter(X[:, 0], X[:, 1], c=y, cmap=plt.cm.coolwarm, edgecolors='k')\n",
        "    plt.xlabel('Age (scaled)')\n",
        "    plt.ylabel('Estimated Salary (scaled)')\n",
        "    plt.title('SVM Decision Boundary')\n",
        "    plt.show()\n",
        "\n",
        "plot_decision_boundary(X_train_scaled, y_train, svm_model, scaler)"
      ]
    },
    {
      "cell_type": "markdown",
      "metadata": {
        "id": "tHymbUXSlBYw"
      },
      "source": [
        "## Conclusion\n",
        "\n",
        "Congratulations! You've completed the interactive notebook. You've learned how to:\n",
        "- Preprocess data (selecting features, splitting, scaling).\n",
        "- Compute distance metrics (Euclidean, Manhattan, Cosine Similarity).\n",
        "- Train and evaluate an SVM model.\n",
        "- Visualize the decision boundary.\n",
        "\n",
        "Try experimenting with different SVM kernels (e.g., 'rbf') or parameters (e.g., `C`) to see how they affect the results!"
      ]
    }
  ],
  "metadata": {
    "kernelspec": {
      "display_name": "env",
      "language": "python",
      "name": "python3"
    },
    "language_info": {
      "codemirror_mode": {
        "name": "ipython",
        "version": 3
      },
      "file_extension": ".py",
      "mimetype": "text/x-python",
      "name": "python",
      "nbconvert_exporter": "python",
      "pygments_lexer": "ipython3",
      "version": "3.12.11"
    },
    "colab": {
      "provenance": [],
      "include_colab_link": true
    }
  },
  "nbformat": 4,
  "nbformat_minor": 0
}