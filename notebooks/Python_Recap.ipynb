{
  "nbformat": 4,
  "nbformat_minor": 0,
  "metadata": {
    "colab": {
      "provenance": [],
      "authorship_tag": "ABX9TyNmSEUAEpZold6GxctVAHDU",
      "include_colab_link": true
    },
    "kernelspec": {
      "name": "python3",
      "display_name": "Python 3"
    },
    "language_info": {
      "name": "python"
    }
  },
  "cells": [
    {
      "cell_type": "markdown",
      "metadata": {
        "id": "view-in-github",
        "colab_type": "text"
      },
      "source": [
        "<a href=\"https://colab.research.google.com/github/1AyaNabil1/Arabian-Training/blob/main/notebooks/Python_Recap.ipynb\" target=\"_parent\"><img src=\"https://colab.research.google.com/assets/colab-badge.svg\" alt=\"Open In Colab\"/></a>"
      ]
    },
    {
      "cell_type": "markdown",
      "source": [
        "# 1. Variables"
      ],
      "metadata": {
        "id": "37bpHjhTlJ0c"
      }
    },
    {
      "cell_type": "code",
      "source": [
        "# What are the variables?\n",
        "name = \"Aya\"\n",
        "age = 22\n",
        "print(\"Name:\", name)\n",
        "print(\"Age:\", age)"
      ],
      "metadata": {
        "id": "trZ48dIuicdL"
      },
      "execution_count": null,
      "outputs": []
    },
    {
      "cell_type": "code",
      "source": [
        "# What's the difference\n",
        "# age = \"22\"\n",
        "# age = 22"
      ],
      "metadata": {
        "id": "JPw4rFvzkb7N"
      },
      "execution_count": null,
      "outputs": []
    },
    {
      "cell_type": "code",
      "source": [
        "# Tell me the Data Types\n",
        "x = 10              #\n",
        "y = 3.14            #\n",
        "text = \"Hello\"      #\n",
        "is_happy = True     #\n",
        "items = [1, 2, 3]   #"
      ],
      "metadata": {
        "id": "7Q_Qs_yukrh7"
      },
      "execution_count": null,
      "outputs": []
    },
    {
      "cell_type": "markdown",
      "source": [
        "## Q1: Defined several variables to calculate the total number of seconds in 4 years"
      ],
      "metadata": {
        "id": "5bGLGJ5BlERk"
      }
    },
    {
      "cell_type": "code",
      "source": [
        "# Create variables\n",
        "\n",
        "\n",
        "# Calculate number of seconds in four years\n",
        "total_secs =\n",
        "print(total_secs)"
      ],
      "metadata": {
        "id": "dtiNydRZlHaT"
      },
      "execution_count": null,
      "outputs": []
    },
    {
      "cell_type": "markdown",
      "source": [
        "## Q2: Define input variable to allow the user to input his name, then print it"
      ],
      "metadata": {
        "id": "U782LN9elvDD"
      }
    },
    {
      "cell_type": "code",
      "source": [
        "# Create Variable\n",
        "name =\n",
        "\n",
        "# Print the input\n",
        "# print(\"Your name is \".... )"
      ],
      "metadata": {
        "id": "0El8JVoek177"
      },
      "execution_count": null,
      "outputs": []
    },
    {
      "cell_type": "markdown",
      "source": [
        "# 2. Lists"
      ],
      "metadata": {
        "id": "2B-nKuCVmMbT"
      }
    },
    {
      "cell_type": "code",
      "source": [
        "# What are lists?\n",
        "fruits = [\"apple\", \"banana\", \"mango\"]"
      ],
      "metadata": {
        "id": "PwujNfiFmoeM"
      },
      "execution_count": null,
      "outputs": []
    },
    {
      "cell_type": "markdown",
      "source": [
        "## Q3: How to ...\n",
        "1. Access first item in the list?\n",
        "2. Get list length?"
      ],
      "metadata": {
        "id": "VYiROksUmx_r"
      }
    },
    {
      "cell_type": "code",
      "source": [
        "# # Access first item in the list\n",
        "# print(fruits[0])\n",
        "\n",
        "# # Get list length\n",
        "# print(len(fruits))"
      ],
      "metadata": {
        "id": "w1tJDayam3cY"
      },
      "execution_count": null,
      "outputs": []
    },
    {
      "cell_type": "markdown",
      "source": [
        "# 3. Strings"
      ],
      "metadata": {
        "id": "fjxw0kB9neJD"
      }
    },
    {
      "cell_type": "markdown",
      "source": [
        "Strings are used to store text. They can delimited using either single quotes or double quotes"
      ],
      "metadata": {
        "id": "_kRcAbNZnijq"
      }
    },
    {
      "cell_type": "code",
      "source": [
        "string1 = \"some text\"\n",
        "string2 = 'some other text'"
      ],
      "metadata": {
        "id": "EDuW5GNkngD3"
      },
      "execution_count": null,
      "outputs": []
    },
    {
      "cell_type": "markdown",
      "source": [
        "Strings behave similarly to lists. As such we can access individual elements in exactly the same way"
      ],
      "metadata": {
        "id": "Rz9ykkjsnog8"
      }
    },
    {
      "cell_type": "code",
      "source": [
        "# What's the output??\n",
        "string1[3]"
      ],
      "metadata": {
        "id": "HIr0YkIznlz0"
      },
      "execution_count": null,
      "outputs": []
    },
    {
      "cell_type": "markdown",
      "source": [
        "# 4. Conditions"
      ],
      "metadata": {
        "id": "UGC7jBkan8qi"
      }
    },
    {
      "cell_type": "code",
      "source": [
        "# Check the age\n",
        "age = 18\n",
        "if age >= 18:\n",
        "    print(\"Adult\")\n",
        "else:\n",
        "    print(\"Minor\")"
      ],
      "metadata": {
        "id": "Hg9Oxm6qn8ar"
      },
      "execution_count": null,
      "outputs": []
    },
    {
      "cell_type": "markdown",
      "source": [
        "## Q4: create a conditional function to tell the user if the number is positive or negative or null"
      ],
      "metadata": {
        "id": "byVKfycGogVT"
      }
    },
    {
      "cell_type": "code",
      "source": [
        "# print(\"Enter any number\")\n",
        "# my_variable = int(input())\n",
        "\n",
        "# if my_variable < 0:\n",
        "#   print(\"negative\")\n",
        "# elif my_variable == 0:\n",
        "#   print(\"null\")\n",
        "# else:\n",
        "#   print(\"positive\")"
      ],
      "metadata": {
        "id": "S4uogsN7o0NY"
      },
      "execution_count": null,
      "outputs": []
    },
    {
      "cell_type": "markdown",
      "source": [
        "# 5. loops"
      ],
      "metadata": {
        "id": "aNXgu3Yxpq3z"
      }
    },
    {
      "cell_type": "markdown",
      "source": [
        "Loops are a way to execute a block of code multiple times. There are two main types of loops: while loops and for loops."
      ],
      "metadata": {
        "id": "tHZy8LtoqROb"
      }
    },
    {
      "cell_type": "markdown",
      "source": [
        "## While loop"
      ],
      "metadata": {
        "id": "t6Dlbd9VqaZL"
      }
    },
    {
      "cell_type": "code",
      "source": [
        "# Define a list\n",
        "my_list = [1, 2, 3]\n",
        "i = 0\n",
        "\n",
        "# Loop through the List\n",
        "while i < len(my_list):   # --> len = 3,  i = 0, 1, 2\n",
        "  print(my_list[i])       # -> i = 1, 2, 3\n",
        "  i += 1"
      ],
      "metadata": {
        "id": "1MgBOCm3prlo"
      },
      "execution_count": null,
      "outputs": []
    },
    {
      "cell_type": "markdown",
      "source": [
        "## For loop"
      ],
      "metadata": {
        "id": "AiI5daqQqfw8"
      }
    },
    {
      "cell_type": "code",
      "source": [
        "# Loop through the list\n",
        "for i in range(len(my_list)):   # --> index of i = my_list[i]??\n",
        "  print(my_list[i])"
      ],
      "metadata": {
        "id": "uaVqgmYOqi03"
      },
      "execution_count": null,
      "outputs": []
    },
    {
      "cell_type": "markdown",
      "source": [
        "## Q5. Write a loop:\n",
        "Given the list:\n",
        "\n",
        "numbers = `[5, 10, 15]`\n",
        "\n",
        "Write a `for loop` that prints each number in the list `multiplied by 2`"
      ],
      "metadata": {
        "id": "jKK9moVYxfd7"
      }
    },
    {
      "cell_type": "code",
      "source": [
        "numbers = [5, 10, 15]\n",
        "\n",
        "for num in numbers:\n",
        "    print(num * 2)"
      ],
      "metadata": {
        "id": "BnZABgioxfN7"
      },
      "execution_count": null,
      "outputs": []
    },
    {
      "cell_type": "markdown",
      "source": [
        "# 6. Functions"
      ],
      "metadata": {
        "id": "YoRWZqZRtqpT"
      }
    },
    {
      "cell_type": "markdown",
      "source": [
        "To improve code readability, it is common to separate the code into different blocks, responsible for performing precise actions: functions. A function takes some inputs and process them to return some outputs."
      ],
      "metadata": {
        "id": "5WtrWWmytyGy"
      }
    },
    {
      "cell_type": "code",
      "source": [
        "a = 3\n",
        "b = 2\n",
        "\n",
        "print(a * b)\n",
        "print(a**2)"
      ],
      "metadata": {
        "id": "IGXtN3_juNmL"
      },
      "execution_count": null,
      "outputs": []
    },
    {
      "cell_type": "code",
      "source": [
        "# Define Square Function\n",
        "def square(x):\n",
        "  return x ** 2\n",
        "\n",
        "# Define Multiplication Function\n",
        "def multiply(a, b):\n",
        "  return a * b\n",
        "\n",
        "result = multiply(3, 2)\n",
        "final_result = square(result)"
      ],
      "metadata": {
        "id": "q1YyND0jttJn"
      },
      "execution_count": null,
      "outputs": []
    },
    {
      "cell_type": "code",
      "source": [
        "# # Functions can be composed like this\n",
        "# square(multiply(3, 2))"
      ],
      "metadata": {
        "id": "falgsMN_vllq"
      },
      "execution_count": null,
      "outputs": []
    },
    {
      "cell_type": "markdown",
      "source": [
        "## Q6: Create a function called `say_hello` that:\n",
        "1. takes one parameter: a name\n",
        "2. returns a greeting message with the name\n",
        "\n",
        "Example output:\n",
        "> `Hello, Aya!`\n",
        "\n"
      ],
      "metadata": {
        "id": "OjOqx2ptwsgb"
      }
    },
    {
      "cell_type": "code",
      "source": [
        "def say_hello(name):\n",
        "    return \"Hello, \" + name + \"!\"\n",
        "\n",
        "print(say_hello(\"Aya\"))"
      ],
      "metadata": {
        "id": "SaExOfxNvGfL"
      },
      "execution_count": null,
      "outputs": []
    }
  ]
}